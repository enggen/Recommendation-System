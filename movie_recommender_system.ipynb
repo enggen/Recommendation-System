{
 "cells": [
  {
   "cell_type": "code",
   "execution_count": 2,
   "metadata": {},
   "outputs": [
    {
     "name": "stderr",
     "output_type": "stream",
     "text": [
      "/Library/Frameworks/Python.framework/Versions/3.6/lib/python3.6/site-packages/lightfm/_lightfm_fast.py:9: UserWarning: LightFM was compiled without OpenMP support. Only a single thread will be used.\n",
      "  warnings.warn('LightFM was compiled without OpenMP support. '\n"
     ]
    },
    {
     "name": "stdout",
     "output_type": "stream",
     "text": [
      "<943x1682 sparse matrix of type '<class 'numpy.int32'>'\n",
      "\twith 49906 stored elements in COOrdinate format>\n",
      "<943x1682 sparse matrix of type '<class 'numpy.int32'>'\n",
      "\twith 5469 stored elements in COOrdinate format>\n",
      "User 3\n",
      "     Known positives:\n",
      "        Seven (Se7en) (1995)\n",
      "        Contact (1997)\n",
      "        Starship Troopers (1997)\n",
      "     Recommended:\n",
      "        Scream (1996)\n",
      "        Chasing Amy (1997)\n",
      "        Devil's Advocate, The (1997)\n",
      "User 25\n",
      "     Known positives:\n",
      "        Dead Man Walking (1995)\n",
      "        Star Wars (1977)\n",
      "        Fargo (1996)\n",
      "     Recommended:\n",
      "        English Patient, The (1996)\n",
      "        Contact (1997)\n",
      "        Fargo (1996)\n",
      "User 450\n",
      "     Known positives:\n",
      "        Contact (1997)\n",
      "        George of the Jungle (1997)\n",
      "        Event Horizon (1997)\n",
      "     Recommended:\n",
      "        G.I. Jane (1997)\n",
      "        Devil's Advocate, The (1997)\n",
      "        Scream (1996)\n"
     ]
    }
   ],
   "source": [
    "import numpy as np\n",
    "from lightfm.datasets import fetch_movielens\n",
    "from lightfm import LightFM\n",
    "\n",
    "#write your own fetch and format method for a different recommendation\n",
    "#dataset. Here a good few https://gist.github.com/entaroadun/1653794 \n",
    "#And take a look at the fetch_movielens method to see what it's doing \n",
    "#\n",
    "\n",
    "#fetch data and format it\n",
    "data = fetch_movielens(min_rating=4.0)\n",
    "\n",
    "#print training and testing data\n",
    "print(repr(data['train']))\n",
    "print(repr(data['test']))\n",
    "\n",
    "\n",
    "#CHALLENGE part 2 of 3 - use 3 different loss functions (so 3 different models), compare results, print results for\n",
    "#the best one. - Available loss functions are warp, logistic, bpr, and warp-kos.\n",
    "\n",
    "#create model\n",
    "model = LightFM(loss='warp')\n",
    "#train model\n",
    "model.fit(data['train'], epochs=30, num_threads=2)\n",
    "\n",
    "\n",
    "#CHALLENGE part 3 of 3 - Modify this function so that it parses your dataset correctly to retrieve\n",
    "#the necessary variables (products, songs, tv shows, etc.)\n",
    "#then print out the recommended results \n",
    "\n",
    "def sample_recommendation(model, data, user_ids):\n",
    "\n",
    "    #number of users and movies in training data\n",
    "    n_users, n_items = data['train'].shape\n",
    "\n",
    "    #generate recommendations for each user we input\n",
    "    for user_id in user_ids:\n",
    "\n",
    "        #movies they already like\n",
    "        known_positives = data['item_labels'][data['train'].tocsr()[user_id].indices]\n",
    "\n",
    "        #movies our model predicts they will like\n",
    "        scores = model.predict(user_id, np.arange(n_items))\n",
    "        #rank them in order of most liked to least\n",
    "        top_items = data['item_labels'][np.argsort(-scores)]\n",
    "\n",
    "        #print out the results\n",
    "        print(\"User %s\" % user_id)\n",
    "        print(\"     Known positives:\")\n",
    "\n",
    "        for x in known_positives[:3]:\n",
    "            print(\"        %s\" % x)\n",
    "\n",
    "        print(\"     Recommended:\")\n",
    "\n",
    "        for x in top_items[:3]:\n",
    "            print(\"        %s\" % x)\n",
    "            \n",
    "sample_recommendation(model, data, [3, 25, 450])"
   ]
  }
 ],
 "metadata": {
  "kernelspec": {
   "display_name": "Python 3",
   "language": "python",
   "name": "python3"
  },
  "language_info": {
   "codemirror_mode": {
    "name": "ipython",
    "version": 3
   },
   "file_extension": ".py",
   "mimetype": "text/x-python",
   "name": "python",
   "nbconvert_exporter": "python",
   "pygments_lexer": "ipython3",
   "version": "3.6.0"
  }
 },
 "nbformat": 4,
 "nbformat_minor": 2
}
